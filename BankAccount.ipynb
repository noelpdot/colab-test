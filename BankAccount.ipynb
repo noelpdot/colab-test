{
  "nbformat": 4,
  "nbformat_minor": 0,
  "metadata": {
    "colab": {
      "name": "BankAccount.ipynb",
      "provenance": [],
      "collapsed_sections": [],
      "authorship_tag": "ABX9TyOoTaPABRYxONw2Q0A7LzMp",
      "include_colab_link": true
    },
    "kernelspec": {
      "name": "python3",
      "display_name": "Python 3"
    }
  },
  "cells": [
    {
      "cell_type": "markdown",
      "metadata": {
        "id": "view-in-github",
        "colab_type": "text"
      },
      "source": [
        "<a href=\"https://colab.research.google.com/github/noelpdot/colab-test/blob/master/BankAccount.ipynb\" target=\"_parent\"><img src=\"https://colab.research.google.com/assets/colab-badge.svg\" alt=\"Open In Colab\"/></a>"
      ]
    },
    {
      "cell_type": "code",
      "metadata": {
        "id": "SBsWfNxFJHOd",
        "colab_type": "code",
        "colab": {}
      },
      "source": [
        "class Account:\n",
        "  def __init__(self,name,balance, min_balance):\n",
        "    self.name = name\n",
        "    self.balance = balance\n",
        "    self.min_balance = min_balance\n",
        "\n",
        "  def deposit (self,amount):\n",
        "    self.balance += amount\n",
        "\n",
        "  def withdraw (self,amount):\n",
        "    if self.balance -amount >=self.min_balance:\n",
        "      self.balance -=amount\n",
        "    else:\n",
        "      print (\"sorry not enough funds!\")\n",
        "\n",
        "  def statement(self):\n",
        "    print (\"Account balance: ${}\".format (self.balance))\n",
        "\n",
        "class Current (Account):\n",
        "  def __init__(self, name, balance):\n",
        "    super().__init__(name,balance,min_balance =-1000)\n",
        "\n",
        "  def __str__(self):\n",
        "    return \"{}'s current account: Balance ${}\".format(self.name,self.balance)\n",
        "\n",
        "class Savings (Account):\n",
        "  def __init__ (self,name, balance):\n",
        "    super().__init__(name, balance, min_balance =0)\n",
        "  def __str__(self):\n",
        "    return \"{}'s savings account: Balance ${}\".format(self.name, self.balance)"
      ],
      "execution_count": 7,
      "outputs": []
    }
  ]
}